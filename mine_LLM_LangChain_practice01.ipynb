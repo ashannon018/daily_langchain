{
 "cells": [
  {
   "cell_type": "markdown",
   "metadata": {},
   "source": [
    "1. 기본 프롬프트"
   ]
  },
  {
   "cell_type": "code",
   "execution_count": 46,
   "metadata": {},
   "outputs": [],
   "source": [
    "import os\n",
    "os.environ[\"OPENAI_API_KEY\"] = \"sk\""
   ]
  },
  {
   "cell_type": "code",
   "execution_count": 49,
   "metadata": {},
   "outputs": [
    {
     "data": {
      "text/plain": [
       "' 1. Iron Maiden - The Trooper 2. Judas Priest - Painkiller 3. Metallica - One 4. Megadeth - Peace Sells 5. Slayer - Raining Blood\\n\\n끝. 블로그에 오신것을 환영합니다.'"
      ]
     },
     "execution_count": 49,
     "metadata": {},
     "output_type": "execute_result"
    }
   ],
   "source": [
    "from langchain.llms import OpenAI\n",
    "\n",
    "llm = OpenAI(model_name='davinci-002', temperature=0.4)\n",
    "llm('1980년대 메탈 음악 5곡 추천해줘.')"
   ]
  },
  {
   "cell_type": "code",
   "execution_count": 48,
   "metadata": {},
   "outputs": [
    {
     "data": {
      "text/plain": [
       "'물론이죠! 1980년대에 인기를 끈 메탈 음악 중에서 5곡을 추천해 드릴게요.\\n\\n1. Metallica - \"Master of Puppets\" (1986)\\n2. Iron Maiden - \"The Number of the Beast\" (1982)\\n3. Judas Priest - \"Breaking the Law\" (1980)\\n4. Slayer - \"Raining Blood\" (1986)\\n5. Motley Crue - \"Kickstart My Heart\" (1989)\\n\\n이 5곡은 1980년대 메탈 음악의 대표적인 곡들 중에서도 특히 인기가 많았던 곡들이에요. 즐겁게 감상해 보시길 바라며, 더 좋은 음악을 찾으려면 언제든지 물어봐 주세요!'"
      ]
     },
     "execution_count": 48,
     "metadata": {},
     "output_type": "execute_result"
    }
   ],
   "source": [
    "from langchain.chat_models import ChatOpenAI\n",
    "from langchain.schema import (\n",
    "\n",
    "    HumanMessage,\n",
    "    SystemMessage\n",
    ")\n",
    "\n",
    "chat = ChatOpenAI(model_name='gpt-3.5-turbo', temperature=0.9)\n",
    "sys = SystemMessage(content=\"당신은 음악 추천을 해주는 전문 AI입니다.\")\n",
    "msg = HumanMessage(content='1980년대 메탈 음악 5곡 추천해줘.')\n",
    "\n",
    "aimsg = chat([sys, msg])\n",
    "aimsg.content"
   ]
  },
  {
   "cell_type": "markdown",
   "metadata": {},
   "source": [
    "2. 프롬프트 템플릿"
   ]
  },
  {
   "cell_type": "code",
   "execution_count": 50,
   "metadata": {},
   "outputs": [
    {
     "data": {
      "text/plain": [
       "'AI 여행 추천 서비스 만드는 회사 이름 추천해줘. 기억에 남는 한글 이름으로'"
      ]
     },
     "execution_count": 50,
     "metadata": {},
     "output_type": "execute_result"
    }
   ],
   "source": [
    "from langchain.prompts import PromptTemplate\n",
    "prompt=PromptTemplate(\n",
    "    input_variables=[\"상품\"],\n",
    "    template = \"{상품} 만드는 회사 이름 추천해줘. 기억에 남는 한글 이름으로\",\n",
    ")\n",
    "prompt.format(상품=\"AI 여행 추천 서비스\")"
   ]
  },
  {
   "cell_type": "code",
   "execution_count": 51,
   "metadata": {},
   "outputs": [
    {
     "data": {
      "text/plain": [
       "'여행알리미(여알)'"
      ]
     },
     "execution_count": 51,
     "metadata": {},
     "output_type": "execute_result"
    }
   ],
   "source": [
    "from langchain.chains import LLMChain\n",
    "chain = LLMChain(llm=chat, prompt = prompt)\n",
    "chain.run(상품=\"AI 여행 추천 서비스\")"
   ]
  },
  {
   "cell_type": "code",
   "execution_count": 30,
   "metadata": {},
   "outputs": [
    {
     "data": {
      "text/plain": [
       "'여행을 즐기는 사람들에게 AI 기술을 활용한 특별한 여행 추천 서비스를 제공하는 회사 이름으로 \"여행지니\"라는 이름을 추천해드립니다. 해당 이름은 \\'여행\\'과 \\'지능\\'을 합쳐서 만든 매력적이고 기억에 남는 한글 이름으로, 여행을 진정으로 즐기는 사람들에게 호감을 줄 수 있을 것입니다.'"
      ]
     },
     "execution_count": 30,
     "metadata": {},
     "output_type": "execute_result"
    }
   ],
   "source": [
    "from langchain.chains import LLMChain\n",
    "chain = LLMChain(llm=chat, prompt=prompt)\n",
    "\n",
    "chain.run(상품=\"AI 여행 추천 서비스\")"
   ]
  },
  {
   "cell_type": "code",
   "execution_count": 53,
   "metadata": {},
   "outputs": [
    {
     "data": {
      "text/plain": [
       "'1. 브레인톡\\n2. 인트로비\\n3. 몽케어\\n4. 뉴로마인드\\n5. 인텔마스크\\n6. 미니멀빌\\n7. 브레인리브\\n8. 케어브레인\\n9. 힐마인드\\n10. 스마트유니버스'"
      ]
     },
     "execution_count": 53,
     "metadata": {},
     "output_type": "execute_result"
    }
   ],
   "source": [
    "prompt.format(상품=\"AI 생활편의 아이템\")\n",
    "from langchain.chains import LLMChain\n",
    "chain = LLMChain(llm=chat, prompt = prompt)\n",
    "chain.run(상품=\"AI 생활편의 아이템\")"
   ]
  },
  {
   "cell_type": "code",
   "execution_count": null,
   "metadata": {},
   "outputs": [],
   "source": [
    "#ChatPromptTemplate & Chain\n",
    "#system prompt,user prompt 구분, \n",
    "#input, output 언어 지정"
   ]
  },
  {
   "cell_type": "code",
   "execution_count": 55,
   "metadata": {},
   "outputs": [],
   "source": [
    "from langchain.chat_models import ChatOpenAI\n",
    "from langchain.prompts.chat import (\n",
    "    ChatPromptTemplate,\n",
    "    SystemMessagePromptTemplate,\n",
    "    HumanMessagePromptTemplate\n",
    ")\n",
    "chat = ChatOpenAI(temperature = 0)"
   ]
  },
  {
   "cell_type": "code",
   "execution_count": 56,
   "metadata": {},
   "outputs": [
    {
     "data": {
      "text/plain": [
       "'저는 프로그래밍을 좋아해요.'"
      ]
     },
     "execution_count": 56,
     "metadata": {},
     "output_type": "execute_result"
    }
   ],
   "source": [
    "template=\"You are a helpful assistant who translates {input_language} to {output_language}.\"\n",
    "system_message_prompt = SystemMessagePromptTemplate.from_template(template)\n",
    "human_template=\"{text}\"\n",
    "human_message_prompt = HumanMessagePromptTemplate.from_template(human_template)\n",
    "\n",
    "chat_prompt = ChatPromptTemplate.from_messages([system_message_prompt, human_message_prompt])\n",
    "\n",
    "chat_chain = LLMChain(llm=chat, prompt=chat_prompt)\n",
    "chat_chain.run(input_language=\"English\", output_language=\"Korean\", text=\"I love programming.\")"
   ]
  },
  {
   "cell_type": "code",
   "execution_count": 59,
   "metadata": {},
   "outputs": [
    {
     "data": {
      "text/plain": [
       "'I sometimes do software programming all night.'"
      ]
     },
     "execution_count": 59,
     "metadata": {},
     "output_type": "execute_result"
    }
   ],
   "source": [
    "template=\"You are a helpful assistant who recommends better english phrases {input_language} to {output_language}.\"\n",
    "system_message_prompt = SystemMessagePromptTemplate.from_template(template)\n",
    "human_template=\"{text}\"\n",
    "human_message_prompt = HumanMessagePromptTemplate.from_template(human_template)\n",
    "\n",
    "chat_prompt = ChatPromptTemplate.from_messages([system_message_prompt, human_message_prompt])\n",
    "\n",
    "chat_chain = LLMChain(llm=chat, prompt=chat_prompt)\n",
    "chat_chain.run(input_language=\"English\", output_language=\"English\", text=\"I sometimes do a SW programming all nights.\")"
   ]
  },
  {
   "cell_type": "code",
   "execution_count": 61,
   "metadata": {},
   "outputs": [],
   "source": [
    "#translator 라고 역할만 지정해주거나, Recommends better eng phrase 와 같이 일종의 정형화된 커맨드를 쓰지 않고, 구두로 풀어서 (chat처럼) 명령을 했는데도 해주는 게 킬포"
   ]
  },
  {
   "cell_type": "markdown",
   "metadata": {},
   "source": [
    "3. Agents and Tools\n",
    "* tool이 구글, 위키피디아를 검색하고, DB조회를 하고, python 스크립트를 실행 및 계산등의 작업을 할 수 있다.\n",
    "* Agents에서는 LLM을 이용하여 어떤 툴을 어떤 순서로 실행할지 결정하는 역할을 함."
   ]
  },
  {
   "cell_type": "code",
   "execution_count": 62,
   "metadata": {},
   "outputs": [
    {
     "name": "stdout",
     "output_type": "stream",
     "text": [
      "\n",
      "\n",
      "\u001b[1m> Entering new AgentExecutor chain...\u001b[0m\n",
      "\u001b[32;1m\u001b[1;3mI need to find out who the founder of Facebook is and then calculate his current age squared.\n",
      "Action: wikipedia\n",
      "Action Input: Founder of Facebook\u001b[0m\n",
      "Observation: \u001b[36;1m\u001b[1;3mPage: Facebook\n",
      "Summary: Facebook is a social media and social networking service owned by the American technology conglomerate Meta. Created in 2004 by Mark Zuckerberg with four other Harvard College students and roommates Eduardo Saverin, Andrew McCollum, Dustin Moskovitz, and Chris Hughes, its name derives from the face book directories often given to American university students. Membership was initially limited to Harvard students, gradually expanding to other North American universities. Since 2006, Facebook allows everyone to register from 13 years old, except in the case of a handful of nations, where the age limit is 14 years. As of December 2022, Facebook claimed almost 3 billion monthly active users. As of October 2023, Facebook ranked as the 3rd most visited website in the world, with 22.56% of its traffic coming from the United States. It was the most downloaded mobile app of the 2010s.\n",
      "Facebook can be accessed from devices with Internet connectivity, such as personal computers, tablets and smartphones. After registering, users can create a profile revealing information about themselves. They can post text, photos and multimedia which are shared with any other users who have agreed to be their friend or, with different privacy settings, publicly. Users can also communicate directly with each other with Messenger, join common-interest groups, and receive notifications on the activities of their Facebook friends and the pages they follow.\n",
      "The subject of numerous controversies, Facebook has often been criticized over issues such as user privacy (as with the Cambridge Analytica data scandal), political manipulation (as with the 2016 U.S. elections) and mass surveillance. Facebook has also been subject to criticism over psychological effects such as addiction and low self-esteem, and various controversies over content such as fake news, conspiracy theories, copyright infringement, and hate speech. Commentators have accused Facebook of willingly facilitating the spread of such content, as well as exaggerating its number of users to appeal to advertisers.\n",
      "\n",
      "\n",
      "\n",
      "Page: Facebook F8\n",
      "Summary: Facebook F8 is a mostly-annual conference held by Meta Platforms (formerly Facebook) since 2007, intended for developers and entrepreneurs who build products and services around the website. The event has generally started with a keynote speech by Facebook founder Mark Zuckerberg, followed by various breakout sessions concentrating on specific topics. Facebook has often introduced new features and made new announcements at the conference.\n",
      "The \"F8\" name comes from Facebook's tradition of 8 hour hackathons.\n",
      "Facebook F8 was hosted in San Francisco, California from 2007 to 2016, then in a more central Silicon Valley location in San Jose, California from 2017 to 2019. In 2020 and 2021, it was a virtual event due to the COVID-19 pandemic. There was no F8 event in 2009, 2012, 2013 or 2022. The 2022 event was replaced by an event called Conversations, focusing on the metaverse.\n",
      "\n",
      "Page: Eduardo Saverin\n",
      "Summary: Eduardo Luiz Saverin ( SAV-ər-in; Portuguese: [eduˈaʁdu luˈis ˈsaveɾĩ] ; born March 19, 1982) is a Brazilian billionaire entrepreneur and angel investor based in Singapore. Saverin is one of the co-founders of Facebook. In 2012, he owned 53 million Facebook shares (approximately 2% of all outstanding shares), valued at approximately $2 billion at the time. He also invested in early-stage startups such as Qwiki and Jumio. With an estimated net worth of US$26.2 billion as of February 2024, he is the 65th richest person in the world, and the richest Brazilian.\n",
      "\n",
      "\u001b[0m\n",
      "Thought:\u001b[32;1m\u001b[1;3mI need to find Mark Zuckerberg's age in 2023 to square it.\n",
      "Action: wikipedia\n",
      "Action Input: Mark Zuckerberg\u001b[0m\n",
      "Observation: \u001b[36;1m\u001b[1;3mPage: Mark Zuckerberg\n",
      "Summary: Mark Elliot Zuckerberg (; born May 14, 1984) is an American businessman and philanthropist. He co-founded the social media service Facebook, along with his Harvard roommates in 2004, and its parent company Meta Platforms (formerly Facebook, Inc.), of which he is chairman, chief executive officer and controlling shareholder.\n",
      "Zuckerberg briefly attended Harvard University, where he launched Facebook in February 2004 with his roommates Eduardo Saverin, Andrew McCollum, Dustin Moskovitz and Chris Hughes. Zuckerberg took the company public in May 2012 with majority shares. In 2008, at age 23, he became the world's youngest self-made billionaire. He has since used his funds to organize multiple philanthropic endeavors, including the establishment of the Chan Zuckerberg Initiative.\n",
      "A film depicting Zuckerberg's early career, legal troubles and initial success with Facebook, The Social Network, was released in 2010 and won multiple Academy Awards. His prominence and fast rise in the technology industry has prompted political and legal attention. The founding of Facebook involved Zuckerberg in multiple lawsuits regarding the creation and ownership of the website as well as issues of user privacy.\n",
      "\n",
      "Page: Priscilla Chan\n",
      "Summary: Priscilla Chan (born February 24, 1985) is an American philanthropist and a former pediatrician. She and her husband, Mark Zuckerberg, a co-founder and CEO of Meta Platforms, established the Chan Zuckerberg Initiative in December 2015, with a pledge to transfer 99 percent of their Facebook shares, then valued at $45 billion. She attended Harvard University and received her medical degree from the University of California, San Francisco.\n",
      "\n",
      "Page: Elon Musk vs. Mark Zuckerberg\n",
      "Summary: Elon Musk vs. Mark Zuckerberg was a proposed martial arts match between business magnates Elon Musk and Mark Zuckerberg.\n",
      "Musk acquired Twitter in October 2022. He began feuding with Zuckerberg after reports emerged that Instagram, owned by Zuckerberg's company, Meta Platforms, was working on a Twitter competitor. Musk challenged Zuckerberg to a cage match, which Zuckerberg accepted. According to the Ultimate Fighting Championship (UFC) president Dana White, both men were very serious about the fight.\n",
      "During the COVID-19 pandemic, Zuckerberg began training in mixed martial arts and Brazilian jiu-jitsu and completed his first tournament in May 2023 after paying to have it restarted. After the challenge, both Musk and Zuckerberg received training offers from fighters, with the most famous, being British American social media influencer Andrew Tate.  In August, talks restarted about holding the fight, including holding it in Italy.\n",
      "The fight was seen under the backdrop of a change in Zuckerberg's image, particularly following the Facebook–Cambridge Analytica data scandal.\n",
      "\n",
      "\u001b[0m\n",
      "Thought:\u001b[32;1m\u001b[1;3mI have the birth year of Mark Zuckerberg, now I need to calculate his age in 2023.\n",
      "Action: Calculator\n",
      "Action Input: 2023 - 1984\u001b[0m\n",
      "Observation: \u001b[33;1m\u001b[1;3mAnswer: 39\u001b[0m\n",
      "Thought:\u001b[32;1m\u001b[1;3mI now know the final answer\n",
      "Final Answer: 39\u001b[0m\n",
      "\n",
      "\u001b[1m> Finished chain.\u001b[0m\n"
     ]
    },
    {
     "data": {
      "text/plain": [
       "'39'"
      ]
     },
     "execution_count": 62,
     "metadata": {},
     "output_type": "execute_result"
    }
   ],
   "source": [
    "from langchain.agents import load_tools\n",
    "from langchain.agents import initialize_agent\n",
    "from langchain.agents import AgentType\n",
    "\n",
    "# tools = load_tools([\"serpapi\", \"llm-math\"], llm=chat) # serpapi 사용하면 구글 검색\n",
    "tools = load_tools([\"wikipedia\", \"llm-math\"], llm=chat)\n",
    "\n",
    "agent = initialize_agent(tools, llm=chat, agent=AgentType.ZERO_SHOT_REACT_DESCRIPTION, verbose=True) # verbose : 중간 과정 출력\n",
    "\n",
    "agent.run(\"페이스북 창업자는 누구인지? 그의 현재(2023년) 나이를 제곱하면?\")"
   ]
  },
  {
   "cell_type": "markdown",
   "metadata": {},
   "source": [
    "제곱까지는 안하는데, 나이는 알아서 검색해서 가져왔다.\n"
   ]
  },
  {
   "cell_type": "code",
   "execution_count": 63,
   "metadata": {},
   "outputs": [
    {
     "data": {
      "text/plain": [
       "[WikipediaQueryRun(api_wrapper=WikipediaAPIWrapper(wiki_client=<module 'wikipedia' from '/opt/anaconda3/lib/python3.11/site-packages/wikipedia/__init__.py'>, top_k_results=3, lang='en', load_all_available_meta=False, doc_content_chars_max=4000)),\n",
       " Tool(name='Calculator', description='Useful for when you need to answer questions about math.', func=<bound method Chain.run of LLMMathChain(llm_chain=LLMChain(prompt=PromptTemplate(input_variables=['question'], template='Translate a math problem into a expression that can be executed using Python\\'s numexpr library. Use the output of running this code to answer the question.\\n\\nQuestion: ${{Question with math problem.}}\\n```text\\n${{single line mathematical expression that solves the problem}}\\n```\\n...numexpr.evaluate(text)...\\n```output\\n${{Output of running the code}}\\n```\\nAnswer: ${{Answer}}\\n\\nBegin.\\n\\nQuestion: What is 37593 * 67?\\n```text\\n37593 * 67\\n```\\n...numexpr.evaluate(\"37593 * 67\")...\\n```output\\n2518731\\n```\\nAnswer: 2518731\\n\\nQuestion: 37593^(1/5)\\n```text\\n37593**(1/5)\\n```\\n...numexpr.evaluate(\"37593**(1/5)\")...\\n```output\\n8.222831614237718\\n```\\nAnswer: 8.222831614237718\\n\\nQuestion: {question}\\n'), llm=ChatOpenAI(client=<openai.resources.chat.completions.Completions object at 0x1e3f00bd0>, async_client=<openai.resources.chat.completions.AsyncCompletions object at 0x1e3c2df50>, temperature=0.0, openai_api_key='sk-proj-q1IH6jIDtiinsYVWieUhT3BlbkFJoVlpBn5Zh7vfpSkeQOOp', openai_proxy='')))>, coroutine=<bound method Chain.arun of LLMMathChain(llm_chain=LLMChain(prompt=PromptTemplate(input_variables=['question'], template='Translate a math problem into a expression that can be executed using Python\\'s numexpr library. Use the output of running this code to answer the question.\\n\\nQuestion: ${{Question with math problem.}}\\n```text\\n${{single line mathematical expression that solves the problem}}\\n```\\n...numexpr.evaluate(text)...\\n```output\\n${{Output of running the code}}\\n```\\nAnswer: ${{Answer}}\\n\\nBegin.\\n\\nQuestion: What is 37593 * 67?\\n```text\\n37593 * 67\\n```\\n...numexpr.evaluate(\"37593 * 67\")...\\n```output\\n2518731\\n```\\nAnswer: 2518731\\n\\nQuestion: 37593^(1/5)\\n```text\\n37593**(1/5)\\n```\\n...numexpr.evaluate(\"37593**(1/5)\")...\\n```output\\n8.222831614237718\\n```\\nAnswer: 8.222831614237718\\n\\nQuestion: {question}\\n'), llm=ChatOpenAI(client=<openai.resources.chat.completions.Completions object at 0x1e3f00bd0>, async_client=<openai.resources.chat.completions.AsyncCompletions object at 0x1e3c2df50>, temperature=0.0, openai_api_key='sk-proj-q1IH6jIDtiinsYVWieUhT3BlbkFJoVlpBn5Zh7vfpSkeQOOp', openai_proxy='')))>)]"
      ]
     },
     "execution_count": 63,
     "metadata": {},
     "output_type": "execute_result"
    }
   ],
   "source": [
    "agent.tools"
   ]
  },
  {
   "cell_type": "code",
   "execution_count": 67,
   "metadata": {},
   "outputs": [
    {
     "data": {
      "text/plain": [
       "2"
      ]
     },
     "execution_count": 67,
     "metadata": {},
     "output_type": "execute_result"
    }
   ],
   "source": [
    "len(agent.tools)"
   ]
  },
  {
   "cell_type": "code",
   "execution_count": 65,
   "metadata": {},
   "outputs": [
    {
     "data": {
      "text/plain": [
       "'A wrapper around Wikipedia. Useful for when you need to answer general questions about people, places, companies, facts, historical events, or other subjects. Input should be a search query.'"
      ]
     },
     "execution_count": 65,
     "metadata": {},
     "output_type": "execute_result"
    }
   ],
   "source": [
    "agent.tools[0].description"
   ]
  },
  {
   "cell_type": "code",
   "execution_count": 66,
   "metadata": {},
   "outputs": [
    {
     "data": {
      "text/plain": [
       "'Useful for when you need to answer questions about math.'"
      ]
     },
     "execution_count": 66,
     "metadata": {},
     "output_type": "execute_result"
    }
   ],
   "source": [
    "agent.tools[1].description"
   ]
  },
  {
   "cell_type": "markdown",
   "metadata": {},
   "source": [
    "4. 메모리 활용"
   ]
  },
  {
   "cell_type": "code",
   "execution_count": 68,
   "metadata": {},
   "outputs": [
    {
     "name": "stdout",
     "output_type": "stream",
     "text": [
      "\n",
      "\n",
      "\u001b[1m> Entering new ConversationChain chain...\u001b[0m\n",
      "Prompt after formatting:\n",
      "\u001b[32;1m\u001b[1;3mThe following is a friendly conversation between a human and an AI. The AI is talkative and provides lots of specific details from its context. If the AI does not know the answer to a question, it truthfully says it does not know.\n",
      "\n",
      "Current conversation:\n",
      "\n",
      "Human: 인공지능에서 Transformer가 뭐야?\n",
      "AI:\u001b[0m\n",
      "\n",
      "\u001b[1m> Finished chain.\u001b[0m\n"
     ]
    },
    {
     "data": {
      "text/plain": [
       "'Transformer는 자연어 처리 분야에서 사용되는 딥러닝 모델 중 하나로, 주로 기계 번역 및 자연어 이해 작업에 사용됩니다. Transformer 모델은 self-attention 메커니즘을 사용하여 문장 내의 단어 간 상호 작용을 파악하고 이를 바탕으로 번역이나 이해 작업을 수행합니다. 이 모델은 현재 가장 성능이 우수한 모델 중 하나로 알려져 있습니다.'"
      ]
     },
     "execution_count": 68,
     "metadata": {},
     "output_type": "execute_result"
    }
   ],
   "source": [
    "from langchain import ConversationChain\n",
    "\n",
    "conversation = ConversationChain(llm=chat, verbose=True)\n",
    "conversation.predict(input=\"인공지능에서 Transformer가 뭐야?\")"
   ]
  },
  {
   "cell_type": "code",
   "execution_count": 69,
   "metadata": {},
   "outputs": [
    {
     "name": "stdout",
     "output_type": "stream",
     "text": [
      "\n",
      "\n",
      "\u001b[1m> Entering new ConversationChain chain...\u001b[0m\n",
      "Prompt after formatting:\n",
      "\u001b[32;1m\u001b[1;3mThe following is a friendly conversation between a human and an AI. The AI is talkative and provides lots of specific details from its context. If the AI does not know the answer to a question, it truthfully says it does not know.\n",
      "\n",
      "Current conversation:\n",
      "Human: 인공지능에서 Transformer가 뭐야?\n",
      "AI: Transformer는 자연어 처리 분야에서 사용되는 딥러닝 모델 중 하나로, 주로 기계 번역 및 자연어 이해 작업에 사용됩니다. Transformer 모델은 self-attention 메커니즘을 사용하여 문장 내의 단어 간 상호 작용을 파악하고 이를 바탕으로 번역이나 이해 작업을 수행합니다. 이 모델은 현재 가장 성능이 우수한 모델 중 하나로 알려져 있습니다.\n",
      "Human: RNN와 차이 설명해줘.\n",
      "AI:\u001b[0m\n",
      "\n",
      "\u001b[1m> Finished chain.\u001b[0m\n"
     ]
    },
    {
     "data": {
      "text/plain": [
       "'RNN(Recurrent Neural Network)은 순환 신경망으로, 이전의 정보를 현재의 정보에 반영하여 순차적인 데이터를 처리하는 데 강점을 가지고 있습니다. 하지만 RNN은 시퀀스가 길어질수록 장기 의존성 문제(long-term dependencies)로 인해 성능이 저하될 수 있습니다. 반면에 Transformer는 self-attention 메커니즘을 사용하여 장기 의존성 문제를 해결하고, 병렬 처리가 가능하여 학습 속도가 빠릅니다. 또한 Transformer는 RNN보다 더 많은 데이터를 효과적으로 처리할 수 있어서 대규모 데이터셋에서 뛰어난 성능을 보입니다.'"
      ]
     },
     "execution_count": 69,
     "metadata": {},
     "output_type": "execute_result"
    }
   ],
   "source": [
    "conversation.predict(input=\"RNN와 차이 설명해줘.\")"
   ]
  },
  {
   "cell_type": "code",
   "execution_count": 70,
   "metadata": {},
   "outputs": [
    {
     "data": {
      "text/plain": [
       "ConversationBufferMemory(chat_memory=InMemoryChatMessageHistory(messages=[HumanMessage(content='인공지능에서 Transformer가 뭐야?'), AIMessage(content='Transformer는 자연어 처리 분야에서 사용되는 딥러닝 모델 중 하나로, 주로 기계 번역 및 자연어 이해 작업에 사용됩니다. Transformer 모델은 self-attention 메커니즘을 사용하여 문장 내의 단어 간 상호 작용을 파악하고 이를 바탕으로 번역이나 이해 작업을 수행합니다. 이 모델은 현재 가장 성능이 우수한 모델 중 하나로 알려져 있습니다.'), HumanMessage(content='RNN와 차이 설명해줘.'), AIMessage(content='RNN(Recurrent Neural Network)은 순환 신경망으로, 이전의 정보를 현재의 정보에 반영하여 순차적인 데이터를 처리하는 데 강점을 가지고 있습니다. 하지만 RNN은 시퀀스가 길어질수록 장기 의존성 문제(long-term dependencies)로 인해 성능이 저하될 수 있습니다. 반면에 Transformer는 self-attention 메커니즘을 사용하여 장기 의존성 문제를 해결하고, 병렬 처리가 가능하여 학습 속도가 빠릅니다. 또한 Transformer는 RNN보다 더 많은 데이터를 효과적으로 처리할 수 있어서 대규모 데이터셋에서 뛰어난 성능을 보입니다.')]))"
      ]
     },
     "execution_count": 70,
     "metadata": {},
     "output_type": "execute_result"
    }
   ],
   "source": [
    "conversation.memory"
   ]
  },
  {
   "cell_type": "code",
   "execution_count": 72,
   "metadata": {},
   "outputs": [
    {
     "data": {
      "text/plain": [
       "ConversationChain(memory=ConversationBufferMemory(chat_memory=InMemoryChatMessageHistory(messages=[HumanMessage(content='인공지능에서 Transformer가 뭐야?'), AIMessage(content='Transformer는 자연어 처리 분야에서 사용되는 딥러닝 모델 중 하나로, 주로 기계 번역 및 자연어 이해 작업에 사용됩니다. Transformer 모델은 self-attention 메커니즘을 사용하여 문장 내의 단어 간 상호 작용을 파악하고 이를 바탕으로 번역이나 이해 작업을 수행합니다. 이 모델은 현재 가장 성능이 우수한 모델 중 하나로 알려져 있습니다.'), HumanMessage(content='RNN와 차이 설명해줘.'), AIMessage(content='RNN(Recurrent Neural Network)은 순환 신경망으로, 이전의 정보를 현재의 정보에 반영하여 순차적인 데이터를 처리하는 데 강점을 가지고 있습니다. 하지만 RNN은 시퀀스가 길어질수록 장기 의존성 문제(long-term dependencies)로 인해 성능이 저하될 수 있습니다. 반면에 Transformer는 self-attention 메커니즘을 사용하여 장기 의존성 문제를 해결하고, 병렬 처리가 가능하여 학습 속도가 빠릅니다. 또한 Transformer는 RNN보다 더 많은 데이터를 효과적으로 처리할 수 있어서 대규모 데이터셋에서 뛰어난 성능을 보입니다.')])), verbose=True, llm=ChatOpenAI(client=<openai.resources.chat.completions.Completions object at 0x1e3f00bd0>, async_client=<openai.resources.chat.completions.AsyncCompletions object at 0x1e3c2df50>, temperature=0.0, openai_api_key='sk-proj-q1IH6jIDtiinsYVWieUhT3BlbkFJoVlpBn5Zh7vfpSkeQOOp', openai_proxy=''))"
      ]
     },
     "execution_count": 72,
     "metadata": {},
     "output_type": "execute_result"
    }
   ],
   "source": [
    "conversation"
   ]
  },
  {
   "cell_type": "markdown",
   "metadata": {},
   "source": [
    "5. 문서 로더 Document Loaders\n",
    "* Web pages, email, pdf, twitter, dataframd(pandas), youtube, notion, google drive, powerpoint, word 지원"
   ]
  },
  {
   "cell_type": "code",
   "execution_count": 73,
   "metadata": {},
   "outputs": [
    {
     "name": "stderr",
     "output_type": "stream",
     "text": [
      "Created a chunk of size 2731, which is longer than the specified 1000\n",
      "Created a chunk of size 1088, which is longer than the specified 1000\n",
      "Created a chunk of size 3432, which is longer than the specified 1000\n"
     ]
    },
    {
     "data": {
      "text/plain": [
       "29"
      ]
     },
     "execution_count": 73,
     "metadata": {},
     "output_type": "execute_result"
    }
   ],
   "source": [
    "from langchain.document_loaders import WebBaseLoader\n",
    "\n",
    "loader = WebBaseLoader(web_path=\"https://ko.wikipedia.org/wiki/NewJeans\")\n",
    "documents = loader.load()\n",
    "\n",
    "from langchain.text_splitter import CharacterTextSplitter\n",
    "\n",
    "text_splitter = CharacterTextSplitter(chunk_size=1000, chunk_overlap=0)\n",
    "docs = text_splitter.split_documents(documents)\n",
    "len(docs)"
   ]
  },
  {
   "cell_type": "code",
   "execution_count": 74,
   "metadata": {},
   "outputs": [
    {
     "data": {
      "text/plain": [
       "Document(page_content='2022년~현재: 소개, 데뷔, 그리고 Get Up[편집]\\nADOR는 2022년 7월 1일에 \\'22\\', \\'7\\', \\'22\\'라는 숫자의 애니메이션 영상 3편을 게재하며 신인 걸그룹 론칭을 예고해, 7월 22일 콘텐츠 공개에 대한 추측을 불러일으켰다.[21] 7월 22일 데뷔 싱글 \\'Attention\\' 뮤직비디오를 사전 프로모션이나 라인업 정보 없이 깜짝 공개했다.[22] 빌보드는 이 움직임을 \"위험하지만 궁극적으로 활력이 넘친다\"고 묘사했으며, 그 성공을 \"무엇보다 음악에 중점을 둔 것\"으로 평가했다.[23] 이 비디오에는 2개의 추가 싱글을 포함하여 4개의 트랙이 포함된 다가오는 시조 데뷔 연장 플레이가 발표되었다.[8] 7월 23일, 그룹의 두 번째 싱글 \"Hype Boy\"가 멤버들의 이름을 공개하는 클립과 함께 공개되었으며, 멤버들의 관점에 맞는 노래에 대한 다른 4개의 뮤직 비디오도 함께 공개되었다.[24] \\'Hype Boy\\'는 K팝 여성 가수가 빌보드 글로벌 200에서 35주 동안 차트에 진입한 최장 기간 노래가 됐다.[25] 이틀 뒤 수록곡 \\'Hurt\\' 뮤직비디오가 공개됐다.[24] EP의 선주문량은 3일 만에 444,000장을 넘어섰다.[26]\\n8월 1일, NewJeans는 세 번째 싱글 \"Cookie\"와 함께 데뷔 EP를 디지털 방식으로 발표했다.[27] 이 노래는 가사에 성적인 풍자가 포함되어 있다고 생각하는 일부 평론가들로부터 비판을 받았다.[28] ADOR는 비난을 부인하고 가사가 \"CD를 굽는 것과 쿠키를 굽는 것의 짝을 이루는 아이디어, 한국어에서 동일한 개념 동사를 공유하는 것\"을 의미한다고 밝혔다.[29] 이 EP의 오프라인 버전은 8월 8일 발매되어 100만 장 이상 판매되어 대한민국 K팝 여성 가수의 베스트셀러 데뷔 앨범이자 2011년 서클 차트 설립 이후 이를 달성한 유일한 데뷔 앨범이 되었다.[30] NewJeans는 나중에 한국대중음악상에서 최우수 K-pop 앨범을 수상했다.[31] 이 그룹은 8월 4일 Mnet \\'엠카운트다운\\'을 통해 세 곡의 싱글을 모두 선보이며 방송 데뷔했다.[32] NewJeans는 골든디스크어워즈,[33] 서울가요대상,[34] 한국대중가요대상,[31] 멜론뮤직어워드,[35] 아시아아티스트어워즈 등[36] 각종 한국음악 시상식에서 신인상을 다수 수상했다.\\nNewJeans는 2022년 12월 19일 첫 번째 싱글 앨범 OMG의 첫 번째 싱글로 \"Ditto\"를 발매했다.[37] \"Ditto\"는 한국 서클 디지털 차트에서 13주 동안 1위를 차지하며 가장 오랫동안 1위를 차지한 곡이 되었다.[38][39] 이는 NewJeans의 첫 번째 빌보드 핫 100 차트 진입으로 최고 82위, 영국 싱글 차트 95위에 올랐다.[37] OMG는 2023년 1월 2일에 발매되었다.[37] 리뷰어들은 이 앨범의 복고풍 스타일을 칭찬했다.[40] 발매 첫 주에[40] 70만 장을 팔아 서클 앨범 차트 1위로 데뷔했다.[41] New Jeans도 100만 장 판매를 달성하기 직전에[30] 100만 장 이상 판매된 첫 번째 앨범이 되었다.[42] OMG에는 같은 이름의 두 번째 싱글이 포함되어 TikTok에서 입소문이 났다.[43] \\'OMG\\'는 빌보드 핫 100에서 74위를 기록하며 차트 최고 순위에 올랐다.[44] 2023년 4월, NewJeans는 Coca-Cola Zero Sugar를 홍보하기 위해 코카콜라와 협력하여 \"Zero\"를 출시했다.[45] 2023년 5월에는 Jon Batiste, J.I.D, Camilo와 함께 코카콜라와 공동으로 두 번째 싱글 \"Be Who You Are (Real Magic)\"를 발매했다.[46]\\nNewJeans는 2023년 7월 1~2일 SK 올림픽 핸드볼 체육관에서 첫 번째 매진 팬미팅 Bunnies Camp를 개최했다.[47] 이 그룹은 2023년 7월 21일 두 번째 EP인 Get Up을 발매했다. EP는 2위로 데뷔했다. 서클 앨범 차트에 진입하며 발매 첫 주 165만 장의 판매고를 기록,[48][49] 3연속 100만 장 이상 판매를 달성한 앨범이 됐다.[50] \"Super Shy\", \"ETA\", \"Cool with You\"라는 세 개의 싱글이 지원되었다.[51] \"Super Shy\"는 Circle Digital Chart에서 1위를 차지하여 NewJeans의 한국 세 번째 1위 싱글을 획득했으며 여러 국제 차트에서 최고의 성적을 거둔 트랙이 되었다.[52][53] 트랙의 상업적 성공으로 NewJeans는 Billboard Emerging Artists 차트에서 처음으로 1위를 달성했다.[54] 모든 곡에는 IT 기업 애플, 미디어 프랜차이즈인 The Powerpuff Girls, 한국 여배우 호연, 홍콩 배우 Tony Leung 등 다양한 브랜드 및 유명인과의 협업이 포함된 뮤직 비디오가 제공되었다.[55][56] 2023년 8월에는 롤라팔루자(Lollapalooza)에서 미국 첫 라이브 공연을 펼쳤고, 이 페스티벌에서 공연하는 K팝 걸그룹 최초가 됐다.[57] 이 그룹은 2023년 9월 1일 김종서의 \\'Beautiful Restriction\\'을 리메이크한 \\'A Time Called You\\' OST를 발매했다.[58]\\n2023년 9월 26일, 리그 오브 레전드 개발사 라이엇 게임즈는 NewJeans가 10월 10일부터 11월 19일까지 대한민국에서 개최되는 리그 오브 레전드 월드 챔피언십 2023의 주제가인 \"Gods\"를 공연할 것이라고 발표했다.[59]\\n2023년 12월 19일, 리믹스 《NJWMX》앨범이 발매되었다.', metadata={'source': 'https://ko.wikipedia.org/wiki/NewJeans', 'title': 'NewJeans - 위키백과, 우리 모두의 백과사전', 'language': 'ko'})"
      ]
     },
     "execution_count": 74,
     "metadata": {},
     "output_type": "execute_result"
    }
   ],
   "source": [
    "docs[3]"
   ]
  },
  {
   "cell_type": "markdown",
   "metadata": {},
   "source": [
    "6. Summarization\n",
    "document 요약해줌"
   ]
  },
  {
   "cell_type": "code",
   "execution_count": 75,
   "metadata": {},
   "outputs": [
    {
     "name": "stdout",
     "output_type": "stream",
     "text": [
      "\n",
      "\n",
      "\u001b[1m> Entering new MapReduceDocumentsChain chain...\u001b[0m\n",
      "\n",
      "\n",
      "\u001b[1m> Entering new LLMChain chain...\u001b[0m\n",
      "Prompt after formatting:\n",
      "\u001b[32;1m\u001b[1;3mWrite a concise summary of the following:\n",
      "\n",
      "\n",
      "\"책 만들기PDF로 다운로드인쇄용 판\n",
      "\n",
      "\t\t다른 프로젝트\n",
      "\t\n",
      "\n",
      "\n",
      "위키미디어 공용\n",
      "\n",
      "위키백과, 우리 모두의 백과사전.\n",
      "\n",
      "\n",
      "  EP에 대해서는 New Jeans (EP) 문서를 참고하십시오.\n",
      "NewJeans뉴진스왼쪽부터 하니, 다니엘, 민지, 혜인, 해린기본 정보결성 지역대한민국 서울특별시장르K-pop댄스 팝활동 시기2022년 7월 22일 ~ 현재레이블하이브소속사어도어웹사이트newjeans.kr 구성원민지하니다니엘해린혜인\n",
      "NewJeans(뉴진스)는 대한민국의 5인조 다국적 걸 그룹이다.  소속사는 하이브 산하의 레이블인 어도어이다. SM 엔터테인먼트 비주얼 디렉터 출신으로 하이브에 영입된 민희진이 프로듀서로 나서서 발굴한 걸 그룹이다. 2022년 8월 18일에 《엠카운트다운》에서 데뷔 3주만에 첫 1위에 올랐다. 2023년 8월에 잼버리 폐회식 K-POP 공연에 출연했다.\n",
      "\n",
      "\n",
      "그룹명[편집]\n",
      "그룹 이름으로 사용되고 있는 '뉴진스(NewJeans)'는 두 가지 의미를 함축하고 있다는 뜻에서 비롯된 말이다.[1] 진스(jeans), 즉 청바지는 시대를 초월한 패션 아이템이라는 생각과 시대를 초월한 이미지를 스스로 개척하려는 그룹의 의도를 암시한다.[2] 이 이름은 또한 새로운 세대(new generation)의 팝 음악을 선도하는 그룹을 가리키는 \"new genes\"라는 문구의 말장난이기도 하다.[3][4]\"\n",
      "\n",
      "\n",
      "CONCISE SUMMARY:\u001b[0m\n",
      "Prompt after formatting:\n",
      "\u001b[32;1m\u001b[1;3mWrite a concise summary of the following:\n",
      "\n",
      "\n",
      "\"역사[편집]\n",
      "2011~2022: 데뷔 전 활동 및 결성[편집]\n",
      "NewJeans로 데뷔하기 전에 여러 그룹 멤버가 TV, 음악, 댄스에 참여했다. 호주 태생의 다니엘 마쉬(Danielle Marsh)는 한국에 살 때 2011년까지 방영된 버라이어티 쇼인 tvN 레인보우 유치원의 정규 출연자였다.[5] 그녀는 또한 TV 프로그램인 제시의 플레이 키친과 내 마음의 크레파스에도 출연했다.[6] 혜인은 2017년 11월 동요그룹 우쏘걸(U.SSO Girl)의 멤버 유정(U.Jeong)으로 데뷔했다가[7] 1년 만에 팀에서 탈퇴했다.[8] 2020년 12월, 그녀는 PocketTV가 결성한 음악 그룹이자 유튜브 그룹인 Play With Me Club에 가입했고, 2021년 5월 3일에 그룹을 졸업했다.[9] 베트남계 호주인 하니(Hanni Pham)는 Aemina Dance Crew의 멤버로 멜버른에서 공연을 시작했다.[10] 하니와 민지는 방탄소년단의 2021년 뮤직비디오 'Permission to Dance'에 게스트로 출연했다.[11]\n",
      "빅히트 엔터테인먼트와 쏘스 뮤직이 합작한 신인 걸그룹 준비는 같은 해 SM 엔터테인먼트의 비주얼 디렉터로서 CBO로 합류해 아트 디렉션으로 널리 인정받고 있는 민희진의 지휘 아래 2019년부터 시작됐다.[12][13][14] 2019년 9월부터 10월까지 글로벌 오디션이 진행됐고, 2020년 초부터 그룹 캐스팅이 시작됐다.[13][15] 2021년 말, 민이 레이블의 CEO로 임명된 후, 프로젝트가 하이브가 새로 설립한 독립 레이블 ADOR로 이전했다고 발표됐다.[16] 2021년 12월부터 2022년 1월까지 2차 글로벌 오디션을 진행해[17] 2022년 3월 라인업이 확정됐다.[18][19] 여러 언론 매체에서 '민희진 걸그룹'으로 불리던 이 그룹은 당초 2021년 론칭 예정이었다.[18][20] 그러나 나중에 코로나19 팬데믹으로 인해 연기됐다.[13]\"\n",
      "\n",
      "\n",
      "CONCISE SUMMARY:\u001b[0m\n",
      "\n",
      "\u001b[1m> Finished chain.\u001b[0m\n",
      "\n",
      "\n",
      "\u001b[1m> Entering new LLMChain chain...\u001b[0m\n",
      "Prompt after formatting:\n",
      "\u001b[32;1m\u001b[1;3mWrite a concise summary of the following:\n",
      "\n",
      "\n",
      "\"NewJeans is a 5-member multinational girl group from South Korea under the label of HIVE's subsidiary, Adore. They debuted in August 2022 and achieved their first win on a music show within 3 weeks. The group's name, NewJeans, symbolizes a timeless fashion item and their intention to pioneer a timeless image, as well as leading the new generation of pop music.\n",
      "\n",
      "The history of the group dates back to 2011 when members were involved in various TV and music activities before debuting as NewJeans. The group was formed under the direction of visual director Min Hee-jin in collaboration with Big Hit Entertainment and Source Music. After a series of auditions and casting, the group's lineup was finalized in March 2022 under the independent label ADOR. The group, initially known as the \"Min Hee-jin girl group,\" was delayed due to the COVID-19 pandemic but eventually debuted in 2022.\"\n",
      "\n",
      "\n",
      "CONCISE SUMMARY:\u001b[0m\n",
      "\n",
      "\u001b[1m> Finished chain.\u001b[0m\n",
      "\n",
      "\u001b[1m> Finished chain.\u001b[0m\n"
     ]
    },
    {
     "data": {
      "text/plain": [
       "\"NewJeans is a 5-member multinational girl group from South Korea under the label of HIVE's subsidiary, Adore. They debuted in August 2022 and quickly achieved their first win on a music show. The group's name symbolizes a timeless fashion item and their goal to pioneer a timeless image in pop music. Formed in collaboration with Big Hit Entertainment and Source Music, the group was delayed due to the COVID-19 pandemic but eventually debuted in 2022 under the independent label ADOR.\""
      ]
     },
     "execution_count": 75,
     "metadata": {},
     "output_type": "execute_result"
    }
   ],
   "source": [
    "from langchain.chains.summarize import load_summarize_chain\n",
    "\n",
    "chain = load_summarize_chain(chat, chain_type=\"map_reduce\", verbose=True)\n",
    "chain.run(docs[1:3])"
   ]
  },
  {
   "cell_type": "markdown",
   "metadata": {},
   "source": [
    "7. Embedding and Vector Store\n",
    "embedding은 문서를 읽어들여, 모델이 데이터를 읽을 수 있는 특징벡터 형태로 구조화 시키는 것을 의미하고, Neural Network의 특정 메모리를 읽어서 만든다.\n",
    "512개 이상의 float으로 만들어지며,\n",
    "의미상 비슷한 input이 입력되면 특징벡터에서 가까운 특징을 가진 벡터들을 검색할 수 있다.\n",
    "embedding과정에서 openAI용 API를 호출하면 내 문서를 주입시키는 것으로 비용도 발생한다.\n",
    "Local PC에서 Hugging face Embeddings를 이용하면 GPU가속도 지원한다.\n",
    "\n",
    "Vector DB는 Embedding벡터와 텍스트를 저장하는 DB로,\n",
    "특징 벡터와 텍스트를 저장하고 이를 파일에 저장한다.\n",
    "종류는\n",
    "* Pinecone service\n",
    "* FAISS(facebook open source, local)\n",
    "* Embeddings -> 텍스트를 저장\n",
    "* vector DB, Chroma DB, 등이 있다.\n"
   ]
  },
  {
   "cell_type": "code",
   "execution_count": 41,
   "metadata": {},
   "outputs": [
    {
     "name": "stderr",
     "output_type": "stream",
     "text": [
      "/opt/anaconda3/lib/python3.11/site-packages/huggingface_hub/file_download.py:1132: FutureWarning: `resume_download` is deprecated and will be removed in version 1.0.0. Downloads always resume when possible. If you want to force a new download, use `force_download=True`.\n",
      "  warnings.warn(\n"
     ]
    }
   ],
   "source": [
    "from langchain.embeddings import HuggingFaceEmbeddings\n",
    "from langchain.embeddings import OpenAIEmbeddings\n",
    "\n",
    "# embeddings = OpenAIEmbeddings()\n",
    "embeddings = HuggingFaceEmbeddings()\n",
    "\n",
    "from langchain.indexes import VectorstoreIndexCreator\n",
    "from langchain.vectorstores import FAISS\n",
    "\n",
    "index = VectorstoreIndexCreator(\n",
    "    vectorstore_cls=FAISS,\n",
    "    embedding=embeddings,\n",
    "    ).from_loaders([loader])\n",
    "\n",
    "# 파일로 저장\n",
    "index.vectorstore.save_local(\"faiss-nj\")"
   ]
  },
  {
   "cell_type": "code",
   "execution_count": 43,
   "metadata": {},
   "outputs": [
    {
     "name": "stdout",
     "output_type": "stream",
     "text": [
      "\n",
      "\n",
      "\u001b[1m> Entering new RetrievalQA chain...\u001b[0m\n",
      "\n",
      "\u001b[1m> Finished chain.\u001b[0m\n"
     ]
    },
    {
     "data": {
      "text/plain": [
       "'뉴진스(NewJeans)의 데뷔곡은 \"Attention\"입니다.'"
      ]
     },
     "execution_count": 43,
     "metadata": {},
     "output_type": "execute_result"
    }
   ],
   "source": [
    "index.query(\"뉴진스의 데뷔곡은?\", llm=chat, verbose=True)"
   ]
  },
  {
   "cell_type": "code",
   "execution_count": 44,
   "metadata": {},
   "outputs": [
    {
     "name": "stdout",
     "output_type": "stream",
     "text": [
      "\n",
      "\n",
      "\u001b[1m> Entering new RetrievalQA chain...\u001b[0m\n",
      "\n",
      "\u001b[1m> Finished chain.\u001b[0m\n"
     ]
    },
    {
     "data": {
      "text/plain": [
       "'뉴진스(NewJeans)의 데뷔 멤버는 다음과 같습니다:\\n1. 민지 (김민지)\\n2. 하니 (팜 하니)\\n3. 다니엘 (다니엘 마쉬)\\n4. 해린 (강해린)\\n5. 혜인 (이혜인)'"
      ]
     },
     "execution_count": 44,
     "metadata": {},
     "output_type": "execute_result"
    }
   ],
   "source": [
    "index.query(\"뉴진스의 데뷔 멤버는?\", llm=chat, verbose=True)"
   ]
  },
  {
   "cell_type": "code",
   "execution_count": 45,
   "metadata": {},
   "outputs": [
    {
     "name": "stdout",
     "output_type": "stream",
     "text": [
      "\n",
      "\n",
      "\u001b[1m> Entering new RetrievalQA chain...\u001b[0m\n",
      "\n",
      "\u001b[1m> Finished chain.\u001b[0m\n"
     ]
    },
    {
     "data": {
      "text/plain": [
       "'저는 그 정보를 알 수 없습니다.'"
      ]
     },
     "execution_count": 45,
     "metadata": {},
     "output_type": "execute_result"
    }
   ],
   "source": [
    "index.query(\"멤버의 나이는?\", llm=chat, verbose=True)"
   ]
  },
  {
   "cell_type": "markdown",
   "metadata": {},
   "source": [
    "csv 문서 로딩\n",
    "PDF 문서 로딩 후 임베딩\n",
    "\n"
   ]
  },
  {
   "cell_type": "code",
   "execution_count": 76,
   "metadata": {},
   "outputs": [],
   "source": [
    "\n",
    "from langchain.indexes import VectorstoreIndexCreator\n",
    "from langchain.indexes.vectorstore import VectorstoreIndexCreator\n",
    "from langchain.document_loaders.csv_loader import CSVLoader\n",
    "\n",
    "loader = CSVLoader(file_path='/Users/s/github/dailycode_ai_dl_ml/ud_llm/generative_ai_nanodegree/Building_GenerativeAI_Solutions/Langchain/tv-reviews.csv')\n",
    "data = loader.load()\n"
   ]
  },
  {
   "cell_type": "code",
   "execution_count": 77,
   "metadata": {},
   "outputs": [
    {
     "ename": "NameError",
     "evalue": "name 'dat' is not defined",
     "output_type": "error",
     "traceback": [
      "\u001b[0;31m---------------------------------------------------------------------------\u001b[0m",
      "\u001b[0;31mNameError\u001b[0m                                 Traceback (most recent call last)",
      "Cell \u001b[0;32mIn[77], line 1\u001b[0m\n\u001b[0;32m----> 1\u001b[0m dat\n",
      "\u001b[0;31mNameError\u001b[0m: name 'dat' is not defined"
     ]
    }
   ],
   "source": [
    "dat"
   ]
  }
 ],
 "metadata": {
  "kernelspec": {
   "display_name": "XCS234_A3",
   "language": "python",
   "name": "python3"
  },
  "language_info": {
   "codemirror_mode": {
    "name": "ipython",
    "version": 3
   },
   "file_extension": ".py",
   "mimetype": "text/x-python",
   "name": "python",
   "nbconvert_exporter": "python",
   "pygments_lexer": "ipython3",
   "version": "3.11.9"
  }
 },
 "nbformat": 4,
 "nbformat_minor": 2
}
